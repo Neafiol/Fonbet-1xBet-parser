{
 "cells": [
  {
   "cell_type": "code",
   "execution_count": 182,
   "metadata": {},
   "outputs": [],
   "source": [
    "import requests\n",
    "from bs4 import BeautifulSoup\n",
    "import re\n",
    "import json\n",
    "from tqdm import tqdm_notebook as tqdm"
   ]
  },
  {
   "cell_type": "code",
   "execution_count": 2,
   "metadata": {},
   "outputs": [],
   "source": [
    "import telebot\n",
    "from telebot import types\n",
    "bot = telebot.TeleBot(\"939202590:AAFGvkADtvtsGvhABm_Br1L16H4ThaQV7z0\")"
   ]
  },
  {
   "cell_type": "code",
   "execution_count": 95,
   "metadata": {},
   "outputs": [],
   "source": [
    "import requests\n",
    "\n",
    "cookies = {'enwiki_session': '17ab96bd8ffbe8ca58a78657a918558'}\n",
    "\n",
    "params={\n",
    "    \"antisports\":198\n",
    "}\n",
    "headers={\n",
    "    \"Accept\": \"*/*\",\n",
    "    \"DNT\": \"1\",\n",
    "    \"Referer\": \"https://1xbet.cr/ru/live/Handball/\",\n",
    "    \"Sec-Fetch-Mode\": \"cors\",\n",
    "    \"User-Agent\": \"Mozilla/5.0 (Windows NT 10.0; Win64; x64) AppleWebKit/537.36 (KHTML, like Gecko) Chrome/76.0.3809.132 Safari/537.36\",\n",
    "    \"X-Requested-With\": \"XMLHttpRequest\"\n",
    "\n",
    "\n",
    "}\n",
    "\n",
    "page  = requests.get(\"https://1xbet.cr/LiveFeed/GetTopGamesStatZip\",params=params,headers=headers).text  \n"
   ]
  },
  {
   "cell_type": "code",
   "execution_count": 183,
   "metadata": {},
   "outputs": [],
   "source": [
    "page  = requests.get(\"https://1xbet.cr/ru/live/Handball/\").text  \n",
    "soup = BeautifulSoup(page, 'html5lib')"
   ]
  },
  {
   "cell_type": "code",
   "execution_count": 184,
   "metadata": {},
   "outputs": [],
   "source": [
    "import requests\n",
    "\n",
    "cookies = {'enwiki_session': '17ab96bd8ffbe8ca58a78657a918558'}\n",
    "\n",
    "params={\n",
    "    \"sports\": 8,\n",
    "    \"count\": 50,\n",
    "    \"antisports\": 198,\n",
    "    \"mode\": 4,\n",
    "    \"country\": 40,\n",
    "    \"getEmpty\": True\n",
    "}\n",
    "\n",
    "headers={\n",
    "    \"Accept\": \"*/*\",\n",
    "    \"DNT\": \"1\",\n",
    "    \"Referer\": \"https://1xbet.cr/ru/live/Handball/\",\n",
    "    \"Sec-Fetch-Mode\": \"cors\",\n",
    "    \"User-Agent\": \"Mozilla/5.0 (Windows NT 10.0; Win64; x64) AppleWebKit/537.36 (KHTML, like Gecko) Chrome/76.0.3809.132 Safari/537.36\",\n",
    "    \"X-Requested-With\": \"XMLHttpRequest\"\n",
    "\n",
    "\n",
    "}\n",
    "\n",
    "page  = requests.get(\"https://1xbet.cr/LiveFeed/Get1x2_VZip\",params=params,headers=headers).text  \n"
   ]
  },
  {
   "cell_type": "code",
   "execution_count": 185,
   "metadata": {},
   "outputs": [],
   "source": [
    "info = json.loads(page)"
   ]
  },
  {
   "cell_type": "code",
   "execution_count": 188,
   "metadata": {},
   "outputs": [
    {
     "data": {
      "text/plain": [
       "{'Error': '',\n",
       " 'ErrorCode': 0,\n",
       " 'Guid': '',\n",
       " 'Id': 0,\n",
       " 'Success': True,\n",
       " 'Value': []}"
      ]
     },
     "execution_count": 188,
     "metadata": {},
     "output_type": "execute_result"
    }
   ],
   "source": [
    "info"
   ]
  },
  {
   "cell_type": "code",
   "execution_count": 178,
   "metadata": {},
   "outputs": [],
   "source": [
    "bets={}\n",
    "for bet in info[\"Value\"][1][\"E\"]:\n",
    "    \n",
    "    if bet[\"T\"]==1:\n",
    "        bets[\"Win1\"]=1/bet[\"C\"]\n",
    "    elif bet[\"T\"]==3:\n",
    "        bets[\"Win2\"]=1/bet[\"C\"]\n",
    "    elif bet[\"T\"]==9:\n",
    "        bets[\"Total\"]=bet[\"P\"]\n",
    "        bets[\"TotalMore\"]=bet[\"C\"]  \n",
    "    elif bet[\"T\"]==10:\n",
    "        bets[\"TotalLess\"]=bet[\"C\"] \n",
    "        \n",
    "    elif bet[\"T\"]==11:\n",
    "        bets[\"Total_player\"]=bet[\"P\"] \n",
    "        bets[\"Total_player_less\"]=bet[\"C\"] \n",
    "    elif bet[\"T\"]==12:\n",
    "        bets[\"Total_player_more\"]=bet[\"C\"] \n",
    "        "
   ]
  },
  {
   "cell_type": "code",
   "execution_count": 179,
   "metadata": {},
   "outputs": [
    {
     "data": {
      "text/plain": [
       "{'Total': 55.0,\n",
       " 'TotalMore': 1.8,\n",
       " 'TotalLess': 2.01,\n",
       " 'Total_player': 23.5,\n",
       " 'Total_player_less': 1.66,\n",
       " 'Total_player_more': 2.04}"
      ]
     },
     "execution_count": 179,
     "metadata": {},
     "output_type": "execute_result"
    }
   ],
   "source": [
    "bets"
   ]
  },
  {
   "cell_type": "code",
   "execution_count": 181,
   "metadata": {
    "scrolled": true
   },
   "outputs": [
    {
     "name": "stdout",
     "output_type": "stream",
     "text": [
      "Рунар - Драммен : ИТБ-1 25.5 Чемпионат Норвегии. Элитсерия\n",
      "23.5 2.04\n",
      "\n"
     ]
    }
   ],
   "source": [
    "for i in info[\"Value\"]:\n",
    "    if len(i[\"SC\"][\"PS\"])>1:\n",
    "        m1=i[\"SC\"][\"PS\"][0][\"Value\"][\"S1\"]\n",
    "        m2=i[\"SC\"][\"PS\"][0][\"Value\"][\"S2\"]  \n",
    "        liga = i[\"L\"]\n",
    "        country = i[\"CN\"]\n",
    "        game = i[\"O1\"]+\" - \"+i[\"O2\"]\n",
    "        match_id=i[\"I\"]\n",
    "        url = \"https://1xbet.cr/ru/\"+soup.find(\"a\",href=re.compile(str(i[\"I\"])))[\"href\"]        \n",
    "                \n",
    "        win=1\n",
    "        if m1>m2:\n",
    "            win=2\n",
    "        \n",
    "        bets={}\n",
    "        for bet in i[\"E\"]:\n",
    "            if bet[\"T\"]==1:\n",
    "                bets[\"Win1\"]=1/bet[\"C\"]\n",
    "            elif bet[\"T\"]==3:\n",
    "                bets[\"Win2\"]=1/bet[\"C\"]\n",
    "            elif bet[\"T\"]==9:\n",
    "                bets[\"Total\"]=bet[\"P\"]\n",
    "                bets[\"TotalMore\"]=bet[\"C\"]  \n",
    "            elif bet[\"T\"]==10:\n",
    "                bets[\"TotalLess\"]=bet[\"C\"] \n",
    "\n",
    "            elif bet[\"T\"]==11+2*(win-1):\n",
    "                bets[\"Total_player\"]=bet[\"P\"] \n",
    "                bets[\"Total_player_less\"]=bet[\"C\"] \n",
    "            elif bet[\"T\"]==12+2*(win-1):\n",
    "                bets[\"Total_player_more\"]=bet[\"C\"] \n",
    "                \n",
    "        print(game,\": ИТБ-\"+str(win),min(m1,m2)*2-0.5,liga)\n",
    "        print(bets[\"Total_player\"],bets[\"Total_player_more\"])\n",
    "        print(\"\")\n"
   ]
  },
  {
   "cell_type": "code",
   "execution_count": 190,
   "metadata": {},
   "outputs": [
    {
     "data": {
      "text/plain": [
       "{'CN': 'Португалия',\n",
       " 'CO': 10,\n",
       " 'COI': 148,\n",
       " 'E': [{'C': 1.83, 'G': 2, 'P': -19.5, 'T': 7},\n",
       "  {'C': 1.97, 'G': 2, 'P': 19.5, 'T': 8},\n",
       "  {'C': 1.89, 'G': 17, 'P': 50.5, 'T': 9},\n",
       "  {'C': 1.91, 'G': 17, 'P': 50.5, 'T': 10},\n",
       "  {'C': 1.805, 'G': 15, 'P': 35.0, 'T': 11},\n",
       "  {'C': 1.86, 'G': 15, 'P': 35.0, 'T': 12},\n",
       "  {'C': 1.81, 'G': 62, 'P': 15.5, 'T': 13},\n",
       "  {'C': 1.86, 'G': 62, 'P': 15.5, 'T': 14}],\n",
       " 'EC': 150,\n",
       " 'I': 207734558,\n",
       " 'L': 'Чемпионат Португалии до 20 лет',\n",
       " 'LE': 'Portugal Championship U20',\n",
       " 'LI': 273583,\n",
       " 'MIO': {},\n",
       " 'MIS': [{'K': 11, 'V': 'Португалия'}],\n",
       " 'N': 25447,\n",
       " 'O1': 'Гайя (20)',\n",
       " 'O1C': 148,\n",
       " 'O1E': 'Gaiy U20',\n",
       " 'O1I': 265599,\n",
       " 'O1IMG': ['265599.png'],\n",
       " 'O1IS': [265599],\n",
       " 'O2': 'Натасао (20)',\n",
       " 'O2C': 148,\n",
       " 'O2E': 'Natasao U20',\n",
       " 'O2I': 644813,\n",
       " 'O2IMG': ['644813.png'],\n",
       " 'O2IS': [644813],\n",
       " 'S': 1569171600,\n",
       " 'SE': 'Handball',\n",
       " 'SI': 8,\n",
       " 'SN': 'Гандбол',\n",
       " 'T': 6,\n",
       " 'TN': 'Тайм',\n",
       " 'R': 6,\n",
       " 'SC': {'CP': 1,\n",
       "  'CPS': '1-й Тайм',\n",
       "  'FS': {'S1': 19, 'S2': 5},\n",
       "  'HC': 1,\n",
       "  'PS': [{'Key': 1, 'Value': {'S1': 19, 'S2': 5}}],\n",
       "  'ST': [{'Key': 0,\n",
       "    'Value': [{'ID': 46, 'S1': '53', 'S2': '15'},\n",
       "     {'ID': 21, 'S1': '0/1', 'S2': '3/4'},\n",
       "     {'ID': 26, 'S1': '1', 'S2': '1'},\n",
       "     {'ID': 22, 'S1': '3', 'S2': '2'},\n",
       "     {'ID': 28, 'S1': '4', 'S2': '3'},\n",
       "     {'ID': 29, 'S1': '34', 'S2': '66'}]}],\n",
       "  'TR': -1,\n",
       "  'TS': 1800},\n",
       " 'ZP': 207733423}"
      ]
     },
     "execution_count": 190,
     "metadata": {},
     "output_type": "execute_result"
    }
   ],
   "source": [
    "i"
   ]
  },
  {
   "cell_type": "code",
   "execution_count": 151,
   "metadata": {},
   "outputs": [],
   "source": [
    "names = soup.find('div',{\"id\" : \"games_content\"}).find_all(\"div\",{\"class\":\"c-events__name\"})\n",
    "matches = soup.find('div',{\"id\" : \"games_content\"}).find_all(\"div\",{\"class\":\"c-events-scoreboard\"})"
   ]
  },
  {
   "cell_type": "code",
   "execution_count": 5,
   "metadata": {},
   "outputs": [],
   "source": [
    "Lig1=[\"Араб\",\"Китай\",\"Алжир\",\"Катар\",\"Турец\"]\n",
    "Lig2=[\"Испан\",\"Швейцар\",\"Румын\",\"Эстон\",\"Польш\",\"Дани\",\"Иордан\"]\n",
    "Lig3=[\"Бахрейн\",\"Македон\",\"Герман\",\"Росси\",\"Беларус\"]"
   ]
  },
  {
   "cell_type": "code",
   "execution_count": 159,
   "metadata": {},
   "outputs": [
    {
     "data": {
      "text/plain": [
       "'live/Handball/1116483-Norway-Eliteserien/207727652-OIF-Arendal-Follo/'"
      ]
     },
     "execution_count": 159,
     "metadata": {},
     "output_type": "execute_result"
    }
   ],
   "source": [
    "soup.find(\"a\",href=re.compile(\"207727652\"))[\"href\"]"
   ]
  },
  {
   "cell_type": "code",
   "execution_count": 152,
   "metadata": {},
   "outputs": [
    {
     "name": "stdout",
     "output_type": "stream",
     "text": [
      "Кольстад — Нэрбо ИЛ    : ИТБ-1 15.5  Лига 0\n",
      "Ст.Халлвард — Элверум    : ИТБ-1 19.5  Лига 0\n",
      "Акер (жен) — Фредрикстад (жен)    : ИТБ-2 15.5  Лига 0\n",
      "Фолло (жен) — Бясен (жен)    : ИТБ-1 19.5  Лига 0\n",
      "Стьярнан (жен) — КА Тхор (жен)    : ИТБ-2 15.5  Лига 0\n"
     ]
    }
   ],
   "source": [
    "for i , m in enumerate(matches):\n",
    "    score = m.find_all(\"span\",{\"class\":\"c-events-scoreboard__cell\"})\n",
    "    if len(score)>4:\n",
    "        m1=int(score[1].text)\n",
    "        m2=int(score[len(score)//2+1].text) \n",
    "#         print(m1,m2)\n",
    "        if min(m1,m2)<14 and m1+m2 < 31:\n",
    "            liga=0\n",
    "#             name = re.sub(r'\\s+', ' ', names[i].text) \n",
    "            name = m.find(\"span\",{\"class\":\"n\"})[\"title\"]\n",
    "            href=\"https://1xbet.cr/\"+m.a[\"href\"]\n",
    "            \n",
    "#             for L in Lig1:\n",
    "#                 if L in names[i].text:\n",
    "#                     liga=1\n",
    "#             for L in Lig2:\n",
    "#                 if L in names[i].text:\n",
    "#                     liga=2\n",
    "#             for L in Lig3:\n",
    "#                 if L in names[i].text:\n",
    "#                     liga=3\n",
    "            win=1\n",
    "            if m1>m2:\n",
    "                win=2\n",
    "                \n",
    "            print(name,\": ИТБ-\"+str(win),min(m1,m2)*2-0.5,\" Лига\",liga)\n",
    "            \n",
    "            \n",
    "#             markup = types.InlineKeyboardMarkup(row_width=2)\n",
    "#             markup.add(types.InlineKeyboardButton(text=\"Открыть матч\", url=href))\n",
    "    \n",
    "#             bot.send_message(chat_id=\"@betparse\",\n",
    "#                                  parse_mode=\"HTML\",\n",
    "#                                  reply_markup=markup,\n",
    "#                                  text=\"Матч {0} из {3} Лиги, ставка ИТБ-{1} на {2}+\".format(name,win,min(m1,m2)*2-0.5,liga))"
   ]
  },
  {
   "cell_type": "code",
   "execution_count": 17,
   "metadata": {},
   "outputs": [
    {
     "data": {
      "text/plain": [
       "<telebot.types.Message at 0x21648f7db70>"
      ]
     },
     "execution_count": 17,
     "metadata": {},
     "output_type": "execute_result"
    }
   ],
   "source": [
    "markup = types.InlineKeyboardMarkup()\n",
    "href=\"vk.com\"\n",
    "markup.add(types.InlineKeyboardButton(text=\"Открыть матч\", url=href))\n",
    "bot.send_message(chat_id=\"@betparse\",\n",
    "                                 parse_mode=\"HTML\",\n",
    "                                 reply_markup=markup,\n",
    "                                 text=\"Матч {0}, ставка {1} на {2}+ из {3} Лиги\".format(\"test \",1,min(2,3)*2-0.5,5))\n"
   ]
  }
 ],
 "metadata": {
  "kernelspec": {
   "display_name": "Python 3",
   "language": "python",
   "name": "python3"
  },
  "language_info": {
   "codemirror_mode": {
    "name": "ipython",
    "version": 3
   },
   "file_extension": ".py",
   "mimetype": "text/x-python",
   "name": "python",
   "nbconvert_exporter": "python",
   "pygments_lexer": "ipython3",
   "version": "3.7.0"
  }
 },
 "nbformat": 4,
 "nbformat_minor": 2
}
