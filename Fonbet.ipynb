{
 "cells": [
  {
   "cell_type": "code",
   "execution_count": 13,
   "metadata": {},
   "outputs": [],
   "source": [
    "import requests\n",
    "from bs4 import BeautifulSoup\n",
    "import re\n",
    "import json\n",
    "from tqdm import tqdm_notebook as tqdm\n",
    "from selenium import webdriver\n",
    "from selenium.webdriver.firefox.options import Options\n"
   ]
  },
  {
   "cell_type": "code",
   "execution_count": 2,
   "metadata": {},
   "outputs": [],
   "source": [
    "import telebot\n",
    "from telebot import types\n",
    "bot = telebot.TeleBot(\"939202590:AAFGvkADtvtsGvhABm_Br1L16H4ThaQV7z0\")"
   ]
  },
  {
   "cell_type": "code",
   "execution_count": 14,
   "metadata": {},
   "outputs": [],
   "source": [
    "options =  Options()\n",
    "    # options.set_headless(True)\n",
    "driver = webdriver.Firefox(options=options)\n",
    "# driver.set_window_size(550, 550)"
   ]
  },
  {
   "cell_type": "code",
   "execution_count": 15,
   "metadata": {},
   "outputs": [],
   "source": [
    "# driver.get(\"https://www.fonbet.ru/mobile/live/handball\")"
   ]
  },
  {
   "cell_type": "code",
   "execution_count": 30,
   "metadata": {},
   "outputs": [],
   "source": [
    "page  = driver.page_source \n",
    "# page = requests.get(\"https://www.fonbet.ru/mobile/live/handball\").text\n",
    "soup  = BeautifulSoup(page)"
   ]
  },
  {
   "cell_type": "code",
   "execution_count": 33,
   "metadata": {},
   "outputs": [
    {
     "data": {
      "text/plain": [
       "<div class=\"b-eventItem b-eventItem_last\"><div class=\"b-eventHead\"><div class=\"b-eventHead__controls\"><a class=\"b-eventHead__controlsLink\" href=\"/mobile/live/handball/32655/16833936\"></a><button class=\"b-eventHead__controlsDropdown\" type=\"button\"></button></div><div class=\"b-eventHead__row\"><div class=\"b-eventHead__info\"><div class=\"b-eventHead__infoText b-eventHead__infoText_bold\"><span>4:5</span></div><!-- --><div class=\"b-eventHead__infoText\"><span>15:18</span></div><div class=\"b-eventHead__infoText\"><span>Таймаут</span></div></div><div class=\"b-eventHead__additional\"><div class=\"b-eventHead__icon b-eventHead__icon_video\"><svg class=\"b-icon b-icon_noMargin\"><use xlink:href=\"#icon_has-match-center\" xmlns:xlink=\"http://www.w3.org/1999/xlink\"></use></svg></div></div></div><div class=\"b-eventHead__row b-eventHead__row_items-center\"><div class=\"b-eventHead__title\">\n",
       "        Норвегия (ж) – Бразилия (ж)\n",
       "      </div><div class=\"b-eventHead__additional\"><div class=\"b-eventHead__buttonIcon b-eventHead__buttonIcon_drop\"><svg class=\"b-icon b-icon_noMargin\"><use xlink:href=\"#icon_dropdown\" xmlns:xlink=\"http://www.w3.org/1999/xlink\"></use></svg></div></div></div></div><div class=\"ui-horizontal-scroll-drawer\"><div class=\"ui-horizontal-scroll-drawer__container ui-horizontal-scroll-drawer__container_small\"><table class=\"b-qTable\"><tbody><tr><th colspan=\"3\"><div class=\"b-qTable__head\">\n",
       "        Исходы\n",
       "      </div></th></tr><tr><td class=\"b-qTable__td\"><div class=\"b-qTable__tdContent\"><div class=\"b-qTable__name\">1</div><div class=\"b-qTable__value\">1.27</div></div></td><td class=\"b-qTable__td\"><div class=\"b-qTable__tdContent\"><div class=\"b-qTable__name\">X</div><div class=\"b-qTable__value\">11.00</div></div></td><td class=\"b-qTable__td\"><div class=\"b-qTable__tdContent\"><div class=\"b-qTable__name\">2</div><div class=\"b-qTable__value\">4.90</div></div></td></tr></tbody></table><table class=\"b-qTable\"><tbody><tr><th><div class=\"b-qTable__head\">\n",
       "        Фора -3.5\n",
       "      </div></th><th><div class=\"b-qTable__head\">\n",
       "        Фора +3.5\n",
       "      </div></th></tr><tr><td class=\"b-qTable__td\"><div class=\"b-qTable__tdContent\"><div class=\"b-qTable__name\">\n",
       "          1\n",
       "        </div><div class=\"b-qTable__value\">\n",
       "          1.90\n",
       "        </div></div></td><td class=\"b-qTable__td\"><div class=\"b-qTable__tdContent\"><div class=\"b-qTable__name\">\n",
       "          2\n",
       "        </div><div class=\"b-qTable__value\">\n",
       "          1.80\n",
       "        </div></div></td></tr></tbody></table><table class=\"b-qTable\"><tbody><tr><th colspan=\"2\"><div class=\"b-qTable__head\">\n",
       "        Тотал 48.5\n",
       "      </div></th></tr><tr><td class=\"b-qTable__td\"><div class=\"b-qTable__tdContent\"><div class=\"b-qTable__name\">Б</div><div class=\"b-qTable__value\">1.95</div></div></td><td class=\"b-qTable__td\"><div class=\"b-qTable__tdContent\"><div class=\"b-qTable__name\">М</div><div class=\"b-qTable__value\">1.75</div></div></td></tr></tbody></table></div></div><!-- --></div>"
      ]
     },
     "execution_count": 33,
     "metadata": {},
     "output_type": "execute_result"
    }
   ],
   "source": [
    "soup.find_all(\"div\",{\"class\":\"b-eventItem b-eventItem_last\"})[0]"
   ]
  },
  {
   "cell_type": "code",
   "execution_count": null,
   "metadata": {},
   "outputs": [],
   "source": []
  },
  {
   "cell_type": "code",
   "execution_count": 7,
   "metadata": {},
   "outputs": [],
   "source": [
    "matches"
   ]
  },
  {
   "cell_type": "code",
   "execution_count": 54,
   "metadata": {},
   "outputs": [
    {
     "data": {
      "text/plain": [
       "'АмазулуКайзер Чифс0000'"
      ]
     },
     "execution_count": 54,
     "metadata": {},
     "output_type": "execute_result"
    }
   ],
   "source": [
    "matches[0].find(\"div\",{\"class\":re.compile(\"bui-event-row__info\")}).text       .find_all(\"div\",{\"class\":re.compile(\"bui-event-row\"),\"itemtype\":True})"
   ]
  },
  {
   "cell_type": "code",
   "execution_count": 55,
   "metadata": {},
   "outputs": [
    {
     "data": {
      "text/plain": [
       "[<span>0</span>, <span>0</span>, <span>0</span>, <span>0</span>]"
      ]
     },
     "execution_count": 55,
     "metadata": {},
     "output_type": "execute_result"
    }
   ],
   "source": [
    "matches[0].find(\"div\",{\"class\":re.compile(\"bui-scores\")}).find_all(\"span\")"
   ]
  },
  {
   "cell_type": "code",
   "execution_count": 60,
   "metadata": {},
   "outputs": [],
   "source": [
    "m = matches[0].find_all(\"div\",{\"class\":re.compile(\"bui-outcome\")})"
   ]
  },
  {
   "cell_type": "code",
   "execution_count": 61,
   "metadata": {},
   "outputs": [
    {
     "name": "stdout",
     "output_type": "stream",
     "text": [
      "3,35\n",
      "2,85\n",
      "2,30\n",
      "2,10\n",
      "1,70\n",
      "1,35\n",
      "3,05\n",
      "5,75\n",
      "1,14\n"
     ]
    }
   ],
   "source": [
    "for i in m:\n",
    "    print(i.text)"
   ]
  },
  {
   "cell_type": "code",
   "execution_count": 151,
   "metadata": {},
   "outputs": [],
   "source": [
    "names = soup.find('div',{\"id\" : \"games_content\"}).find_all(\"div\",{\"class\":\"c-events__name\"})\n",
    "matches = soup.find('div',{\"id\" : \"games_content\"}).find_all(\"div\",{\"class\":\"c-events-scoreboard\"})"
   ]
  },
  {
   "cell_type": "code",
   "execution_count": 5,
   "metadata": {},
   "outputs": [],
   "source": [
    "Lig1=[\"Араб\",\"Китай\",\"Алжир\",\"Катар\",\"Турец\"]\n",
    "Lig2=[\"Испан\",\"Швейцар\",\"Румын\",\"Эстон\",\"Польш\",\"Дани\",\"Иордан\"]\n",
    "Lig3=[\"Бахрейн\",\"Македон\",\"Герман\",\"Росси\",\"Беларус\"]"
   ]
  },
  {
   "cell_type": "code",
   "execution_count": 159,
   "metadata": {},
   "outputs": [
    {
     "data": {
      "text/plain": [
       "'live/Handball/1116483-Norway-Eliteserien/207727652-OIF-Arendal-Follo/'"
      ]
     },
     "execution_count": 159,
     "metadata": {},
     "output_type": "execute_result"
    }
   ],
   "source": [
    "soup.find(\"a\",href=re.compile(\"207727652\"))[\"href\"]"
   ]
  },
  {
   "cell_type": "code",
   "execution_count": 152,
   "metadata": {},
   "outputs": [
    {
     "name": "stdout",
     "output_type": "stream",
     "text": [
      "Кольстад — Нэрбо ИЛ    : ИТБ-1 15.5  Лига 0\n",
      "Ст.Халлвард — Элверум    : ИТБ-1 19.5  Лига 0\n",
      "Акер (жен) — Фредрикстад (жен)    : ИТБ-2 15.5  Лига 0\n",
      "Фолло (жен) — Бясен (жен)    : ИТБ-1 19.5  Лига 0\n",
      "Стьярнан (жен) — КА Тхор (жен)    : ИТБ-2 15.5  Лига 0\n"
     ]
    }
   ],
   "source": [
    "for i , m in enumerate(matches):\n",
    "    score = m.find_all(\"span\",{\"class\":\"c-events-scoreboard__cell\"})\n",
    "    if len(score)>4:\n",
    "        m1=int(score[1].text)\n",
    "        m2=int(score[len(score)//2+1].text) \n",
    "#         print(m1,m2)\n",
    "        if min(m1,m2)<14 and m1+m2 < 31:\n",
    "            liga=0\n",
    "#             name = re.sub(r'\\s+', ' ', names[i].text) \n",
    "            name = m.find(\"span\",{\"class\":\"n\"})[\"title\"]\n",
    "            href=\"https://1xbet.cr/\"+m.a[\"href\"]\n",
    "            \n",
    "#             for L in Lig1:\n",
    "#                 if L in names[i].text:\n",
    "#                     liga=1\n",
    "#             for L in Lig2:\n",
    "#                 if L in names[i].text:\n",
    "#                     liga=2\n",
    "#             for L in Lig3:\n",
    "#                 if L in names[i].text:\n",
    "#                     liga=3\n",
    "            win=1\n",
    "            if m1>m2:\n",
    "                win=2\n",
    "                \n",
    "            print(name,\": ИТБ-\"+str(win),min(m1,m2)*2-0.5,\" Лига\",liga)\n",
    "            \n",
    "            \n",
    "#             markup = types.InlineKeyboardMarkup(row_width=2)\n",
    "#             markup.add(types.InlineKeyboardButton(text=\"Открыть матч\", url=href))\n",
    "    \n",
    "#             bot.send_message(chat_id=\"@betparse\",\n",
    "#                                  parse_mode=\"HTML\",\n",
    "#                                  reply_markup=markup,\n",
    "#                                  text=\"Матч {0} из {3} Лиги, ставка ИТБ-{1} на {2}+\".format(name,win,min(m1,m2)*2-0.5,liga))"
   ]
  },
  {
   "cell_type": "code",
   "execution_count": 17,
   "metadata": {},
   "outputs": [
    {
     "data": {
      "text/plain": [
       "<telebot.types.Message at 0x21648f7db70>"
      ]
     },
     "execution_count": 17,
     "metadata": {},
     "output_type": "execute_result"
    }
   ],
   "source": [
    "markup = types.InlineKeyboardMarkup()\n",
    "href=\"vk.com\"\n",
    "markup.add(types.InlineKeyboardButton(text=\"Открыть матч\", url=href))\n",
    "bot.send_message(chat_id=\"@betparse\",\n",
    "                                 parse_mode=\"HTML\",\n",
    "                                 reply_markup=markup,\n",
    "                                 text=\"Матч {0}, ставка {1} на {2}+ из {3} Лиги\".format(\"test \",1,min(2,3)*2-0.5,5))\n"
   ]
  }
 ],
 "metadata": {
  "kernelspec": {
   "display_name": "Python 3",
   "language": "python",
   "name": "python3"
  },
  "language_info": {
   "codemirror_mode": {
    "name": "ipython",
    "version": 3
   },
   "file_extension": ".py",
   "mimetype": "text/x-python",
   "name": "python",
   "nbconvert_exporter": "python",
   "pygments_lexer": "ipython3",
   "version": "3.7.0"
  }
 },
 "nbformat": 4,
 "nbformat_minor": 2
}
